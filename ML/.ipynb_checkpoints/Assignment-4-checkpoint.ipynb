{
 "cells": [
  {
   "cell_type": "markdown",
   "metadata": {},
   "source": [
    "# Assisnment 4\n",
    "Implement Gradient Descent Algorithm to find the local minima of a function. For example, find the local minima of the function y=(x+3)² starting from the point x=2."
   ]
  },
  {
   "cell_type": "code",
   "execution_count": 1,
   "metadata": {},
   "outputs": [],
   "source": [
    "import numpy as np\n",
    "import matplotlib.pyplot as plt\n",
    "import sympy as sp"
   ]
  },
  {
   "cell_type": "code",
   "execution_count": 2,
   "metadata": {},
   "outputs": [],
   "source": [
    "def gradient_descent(alpha, start, max_iterations):\n",
    "    x = sp.symbols('x')\n",
    "    function = (x + 3)**2\n",
    "    derivative = sp.diff(function, x)\n",
    "    gradient = sp.lambdify(x, derivative)\n",
    "\n",
    "    x_list = []\n",
    "    x_val = start\n",
    "    x_list.append(x_val)\n",
    "\n",
    "    for i in range(max_iterations):\n",
    "        gradient_val = gradient(x_val)\n",
    "        x_val = x_val - alpha * gradient_val\n",
    "        x_list.append(x_val)\n",
    "\n",
    "    return x_list"
   ]
  },
  {
   "cell_type": "code",
   "execution_count": 4,
   "metadata": {},
   "outputs": [
    {
     "name": "stdout",
     "output_type": "stream",
     "text": [
      "Minima: -2.9999999999999853\n"
     ]
    },
    {
     "ename": "NameError",
     "evalue": "name 'lambdify' is not defined",
     "output_type": "error",
     "traceback": [
      "\u001b[1;31m---------------------------------------------------------------------------\u001b[0m",
      "\u001b[1;31mNameError\u001b[0m                                 Traceback (most recent call last)",
      "Cell \u001b[1;32mIn[4], line 9\u001b[0m\n\u001b[0;32m      6\u001b[0m \u001b[38;5;28mprint\u001b[39m(\u001b[38;5;124m\"\u001b[39m\u001b[38;5;124mMinima:\u001b[39m\u001b[38;5;124m\"\u001b[39m, x_val[\u001b[38;5;241m-\u001b[39m\u001b[38;5;241m1\u001b[39m])\n\u001b[0;32m      8\u001b[0m x_cor \u001b[38;5;241m=\u001b[39m np\u001b[38;5;241m.\u001b[39mlinspace(\u001b[38;5;241m-\u001b[39m\u001b[38;5;241m4\u001b[39m,\u001b[38;5;241m3\u001b[39m)\n\u001b[1;32m----> 9\u001b[0m plt\u001b[38;5;241m.\u001b[39mplot(x_cor, lambdify(x, objective)(x_cor))\n\u001b[0;32m     11\u001b[0m x_arr\u001b[38;5;241m=\u001b[39mnp\u001b[38;5;241m.\u001b[39marray(x_val)\n\u001b[0;32m     12\u001b[0m plt\u001b[38;5;241m.\u001b[39mplot(x_arr, lambdify(x, objective)(x_arr),\u001b[38;5;124m'\u001b[39m\u001b[38;5;124m.-\u001b[39m\u001b[38;5;124m'\u001b[39m,color\u001b[38;5;241m=\u001b[39m\u001b[38;5;124m'\u001b[39m\u001b[38;5;124mred\u001b[39m\u001b[38;5;124m'\u001b[39m)\n",
      "\u001b[1;31mNameError\u001b[0m: name 'lambdify' is not defined"
     ]
    }
   ],
   "source": [
    "alpha = 0.1\n",
    "start = 2\n",
    "max_iter = 150\n",
    "\n",
    "x_val = gradient_descent(alpha, start, max_iter)\n",
    "print(\"Minima:\", x_val[-1])\n",
    "\n",
    "x_cor = np.linspace(-4,3)\n",
    "plt.plot(x_cor, lambdify(x, objective)(x_cor))\n",
    "\n",
    "x_arr=np.array(x_val)\n",
    "plt.plot(x_arr, lambdify(x, objective)(x_arr),'.-',color='red')\n",
    "plt.show()"
   ]
  },
  {
   "cell_type": "code",
   "execution_count": null,
   "metadata": {},
   "outputs": [],
   "source": []
  }
 ],
 "metadata": {
  "kernelspec": {
   "display_name": "Python 3 (ipykernel)",
   "language": "python",
   "name": "python3"
  },
  "language_info": {
   "codemirror_mode": {
    "name": "ipython",
    "version": 3
   },
   "file_extension": ".py",
   "mimetype": "text/x-python",
   "name": "python",
   "nbconvert_exporter": "python",
   "pygments_lexer": "ipython3",
   "version": "3.11.5"
  }
 },
 "nbformat": 4,
 "nbformat_minor": 2
}
